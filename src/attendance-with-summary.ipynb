{
 "cells": [
  {
   "cell_type": "code",
   "execution_count": null,
   "id": "dfb0fa32",
   "metadata": {},
   "outputs": [
    {
     "ename": "ModuleNotFoundError",
     "evalue": "No module named 'pandas'",
     "output_type": "error",
     "traceback": [
      "\u001b[31m---------------------------------------------------------------------------\u001b[39m",
      "\u001b[31mModuleNotFoundError\u001b[39m                       Traceback (most recent call last)",
      "\u001b[36mCell\u001b[39m\u001b[36m \u001b[39m\u001b[32mIn[1]\u001b[39m\u001b[32m, line 2\u001b[39m\n\u001b[32m      1\u001b[39m \u001b[38;5;66;03m# Import necessary libraries\u001b[39;00m\n\u001b[32m----> \u001b[39m\u001b[32m2\u001b[39m \u001b[38;5;28;01mimport\u001b[39;00m\u001b[38;5;250m \u001b[39m\u001b[34;01mpandas\u001b[39;00m\u001b[38;5;250m \u001b[39m\u001b[38;5;28;01mas\u001b[39;00m\u001b[38;5;250m \u001b[39m\u001b[34;01mpd\u001b[39;00m\n\u001b[32m      3\u001b[39m \u001b[38;5;28;01mfrom\u001b[39;00m\u001b[38;5;250m \u001b[39m\u001b[34;01mmatplotlib\u001b[39;00m\u001b[38;5;250m \u001b[39m\u001b[38;5;28;01mimport\u001b[39;00m pyplot \u001b[38;5;28;01mas\u001b[39;00m plt\n\u001b[32m      4\u001b[39m \u001b[38;5;28;01mimport\u001b[39;00m\u001b[38;5;250m \u001b[39m\u001b[34;01mnumpy\u001b[39;00m\u001b[38;5;250m \u001b[39m\u001b[38;5;28;01mas\u001b[39;00m\u001b[38;5;250m \u001b[39m\u001b[34;01mnp\u001b[39;00m\n",
      "\u001b[31mModuleNotFoundError\u001b[39m: No module named 'pandas'"
     ]
    }
   ],
   "source": [
    "# Import necessary libraries\n",
    "!pip install --quiet pandas matplotlib numpy\n",
    "import pandas as pd\n",
    "from matplotlib import pyplot as plt\n",
    "import numpy as np\n"
   ]
  },
  {
   "cell_type": "code",
   "execution_count": 106,
   "id": "56d6d3a2",
   "metadata": {},
   "outputs": [],
   "source": [
    "\n",
    "# Function to process attendance data\n",
    "def process_attendance(file_path):\n",
    "    # Load the data\n",
    "    try:\n",
    "        df = pd.read_csv(file_path)\n",
    "    except FileNotFoundError:\n",
    "        print(\"File not found. Please check the file path.\")\n",
    "        return\n",
    "\n",
    "    # Check if required columns exist\n",
    "    required_columns = ['Name', 'Emp ID', 'Time', 'Attendance State']\n",
    "    for col in required_columns:\n",
    "        if col not in df.columns:\n",
    "            print(f\"Column '{col}' is missing from the file.\")\n",
    "            return\n",
    "\n",
    "    # Ensure Time column is in datetime format\n",
    "    df['Time'] = pd.to_datetime(df['Time'], errors='coerce')\n",
    "\n",
    "    # Remove invalid Time entries\n",
    "    df = df.dropna(subset=['Time'])\n",
    "\n",
    "    # Sort the data by Employee ID, Date, and Time\n",
    "    df['Date'] = df['Time'].dt.date\n",
    "    df = df.sort_values(by=['Emp ID', 'Date', 'Time'])\n",
    "\n",
    "    # Process each employee's data for each day\n",
    "    processed_data = []\n",
    "\n",
    "    for emp_id, emp_group in df.groupby(['Emp ID', 'Date']):\n",
    "        check_in = emp_group[emp_group['Attendance State'] == 'Check In']\n",
    "        check_out = emp_group[emp_group['Attendance State'] == 'Check Out']\n",
    "\n",
    "        intime = check_in['Time'].iloc[0] if not check_in.empty else None\n",
    "        outtime = check_out['Time'].iloc[0] if not check_out.empty else None\n",
    "\n",
    "        # Append processed entry\n",
    "        processed_data.append({\n",
    "            'Name': emp_group['Name'].iloc[0],\n",
    "            'Emp ID': emp_id,\n",
    "            'Date': emp_group['Date'].iloc[0],\n",
    "            'CheckIn': intime,\n",
    "            'CheckOut': outtime\n",
    "        })\n",
    "\n",
    "    # Create a DataFrame from processed data\n",
    "    final_df = pd.DataFrame(processed_data)\n",
    "    \n",
    "    # Adjust OUTTIME if INTIME is greater than OUTTIME\n",
    "    final_df['CheckOut'] = final_df.apply(\n",
    "        lambda row: row['CheckOut'] + pd.Timedelta(hours=12) if pd.notnull(row['CheckIn']) and pd.notnull(row['CheckOut']) and row['CheckIn'] > row['CheckOut'] else row['CheckOut'],\n",
    "        axis=1\n",
    "    )\n",
    "\n",
    "    # Calculate WorkHrs and OVERTIME\n",
    "    final_df['WorkHrs'] = final_df.apply(\n",
    "        lambda row: (row['CheckOut'] - row['CheckIn']).total_seconds() / 3600 if pd.notnull(row['CheckIn']) and pd.notnull(row['CheckOut']) else 0,\n",
    "        axis=1\n",
    "    )\n",
    "    final_df['WorkHrs'] = final_df['WorkHrs'].apply(lambda x: f\"{int(x)}:{int((x*60) % 60):02d}\")\n",
    "\n",
    "    final_df['Overtime'] = final_df['WorkHrs'].apply(\n",
    "        lambda x: max(0, (int(x.split(':')[0]) * 60 + int(x.split(':')[1])) - 600)  # 10:00 hrs in minutes is 600\n",
    "    )\n",
    "    final_df['Overtime'] = final_df['Overtime'].apply(lambda x: f\"{x // 60}:{x % 60:02d}\")\n",
    "\n",
    "    # Adjust Overtime to 0:00 if less than 0:15 minutes\n",
    "    final_df['Overtime'] = final_df['Overtime'].apply(\n",
    "        lambda x: \"0:00\" if int(x.split(':')[0]) == 0 and int(x.split(':')[1]) < 15 else x\n",
    "    )\n",
    "\n",
    "    # Keep only the final required columns\n",
    "    final_df = final_df[['Name', 'Emp ID', 'Date', 'CheckIn', 'CheckOut', 'WorkHrs', 'Overtime']]\n",
    "    \n",
    "    \n",
    "    # Create a summary of total work hours and overtime\n",
    "    summary_data = []\n",
    "\n",
    "    for name, name_group in final_df.groupby('Name'):\n",
    "        total_work_hrs = name_group['WorkHrs'].apply(lambda x: int(x.split(':')[0]) * 60 + int(x.split(':')[1])).sum() / 60\n",
    "        total_overtime = name_group['Overtime'].apply(lambda x: int(x.split(':')[0]) * 60 + int(x.split(':')[1])).sum() / 60\n",
    "\n",
    "        # Extract only the first part of Emp ID if it is a tuple\n",
    "        #emp_idx = name_group['Emp ID'].iloc[0]\n",
    "        \n",
    "        emp_id = name_group['Emp ID'].iloc[0]\n",
    "        if isinstance(emp_id, tuple):\n",
    "            emp_id = emp_id[0]  # Take only the first element of the tuple\n",
    "    \n",
    "        # Determine the rate based on Emp ID\n",
    "        rate = 500 if emp_id == 4 else 250\n",
    "\n",
    "        # Calculate the overtime amount\n",
    "        overtime_amnt = round(rate * total_overtime)\n",
    "        \n",
    "        summary_data.append({\n",
    "            'Emp ID':emp_id,\n",
    "            'Name': name,\n",
    "            'TotalWorkHrs': f\"{int(total_work_hrs)}:{int((total_work_hrs * 60) % 60):02d}\",\n",
    "            'TotalOvertime': f\"{int(total_overtime)}:{int((total_overtime * 60) % 60):02d}\",\n",
    "            'Rate': rate,\n",
    "            'OvertimeAmnt': f\"{overtime_amnt:.2f}\"  # Format as a float with 2 decimal places\n",
    "        })\n",
    "\n",
    "    # Create a DataFrame for the summary\n",
    "    summary_df = pd.DataFrame(summary_data)\n",
    "\n",
    "    return final_df, summary_df\n"
   ]
  },
  {
   "cell_type": "code",
   "execution_count": 107,
   "id": "06356b11",
   "metadata": {},
   "outputs": [],
   "source": [
    "# Provide the path to your CSV file\n",
    "file_path = 'DEC-STAFF-OVERTIME.csv'\n",
    "\n",
    "# Call the function\n",
    "processed_df, summary_df = process_attendance(file_path)\n",
    "\n",
    "\n"
   ]
  },
  {
   "cell_type": "code",
   "execution_count": 102,
   "id": "0c988297",
   "metadata": {},
   "outputs": [
    {
     "name": "stdout",
     "output_type": "stream",
     "text": [
      "        Name           Emp ID        Date             CheckIn  \\\n",
      "0  PAUL.KELI  (2, 2024-12-01)  2024-12-01 2024-12-01 08:39:06   \n",
      "1  PAUL.KELI  (2, 2024-12-04)  2024-12-04 2024-12-04 06:43:08   \n",
      "2  PAUL.KELI  (2, 2024-12-05)  2024-12-05 2024-12-05 06:21:31   \n",
      "3  PAUL.KELI  (2, 2024-12-06)  2024-12-06 2024-12-06 06:31:51   \n",
      "4  PAUL.KELI  (2, 2024-12-07)  2024-12-07 2024-12-07 06:27:41   \n",
      "\n",
      "             CheckOut WorkHrs Overtime  \n",
      "0 2024-12-01 16:42:06    8:03     0:00  \n",
      "1 2024-12-04 18:18:50   11:35     1:35  \n",
      "2 2024-12-05 18:13:55   11:52     1:52  \n",
      "3 2024-12-06 18:28:41   11:56     1:56  \n",
      "4 2024-12-07 18:14:50   11:47     1:47  \n",
      "   Emp ID       Name TotalWorkHrs TotalOvertime  Rate OvertimeAmnt\n",
      "0      22       Anne        85:35          3:37   250       904.00\n",
      "1      23  Beverlyne       191:35         11:22   250      2842.00\n",
      "2      39    JACINTA       175:32          9:30   250      2375.00\n",
      "3      13     Kelvin       194:45         22:27   250      5612.00\n",
      "4      27       Lucy       159:22         13:55   250      3479.00\n"
     ]
    }
   ],
   "source": [
    "# Replace 'attendance_data.csv' with the path to your file\n",
    "\n",
    "if processed_df is not None:\n",
    "    print(processed_df.head())  # Display the first few rows of the processed data\n",
    "    print(summary_df.head())  # Display the summary data\n"
   ]
  },
  {
   "cell_type": "code",
   "execution_count": 99,
   "id": "cd18301c",
   "metadata": {},
   "outputs": [],
   "source": [
    "# Save the processed data and summary data to a new file with two sheets\n",
    "with pd.ExcelWriter('processed_attendance_with_summary.xlsx') as writer:\n",
    "    processed_df.to_excel(writer, sheet_name='Attendance Data', index=False)\n",
    "    summary_df.to_excel(writer, sheet_name='Summary', index=False)"
   ]
  },
  {
   "cell_type": "code",
   "execution_count": 113,
   "id": "c0c573a4",
   "metadata": {},
   "outputs": [
    {
     "data": {
      "image/png": "[encoded data removed]",
      "text/plain": [
       "<Figure size 360x360 with 6 Axes>"
      ]
     },
     "metadata": {
      "needs_background": "light"
     },
     "output_type": "display_data"
    }
   ],
   "source": [
    "import seaborn as sns\n",
    "\n",
    "if processed_df is not None:\n",
    "    sns.pairplot(summary_df, diag_kind = 'kde')\n"
   ]
  },
  {
   "cell_type": "code",
   "execution_count": null,
   "id": "ddc14712",
   "metadata": {},
   "outputs": [],
   "source": []
  },
  {
   "cell_type": "code",
   "execution_count": null,
   "id": "d3204b4b",
   "metadata": {},
   "outputs": [],
   "source": []
  }
 ],
 "metadata": {
  "kernelspec": {
   "display_name": "Python 3 (ipykernel)",
   "language": "python",
   "name": "python3"
  },
  "language_info": {
   "codemirror_mode": {
    "name": "ipython",
    "version": 3
   },
   "file_extension": ".py",
   "mimetype": "text/x-python",
   "name": "python",
   "nbconvert_exporter": "python",
   "pygments_lexer": "ipython3",
   "version": "3.12.10"
  }
 },
 "nbformat": 4,
 "nbformat_minor": 5
}
